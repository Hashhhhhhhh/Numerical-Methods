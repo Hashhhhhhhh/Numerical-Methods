{
  "nbformat": 4,
  "nbformat_minor": 0,
  "metadata": {
    "colab": {
      "provenance": []
    },
    "kernelspec": {
      "name": "python3",
      "display_name": "Python 3"
    },
    "language_info": {
      "name": "python"
    }
  },
  "cells": [
    {
      "cell_type": "code",
      "source": [
        "def bisection_method(func_str, a, b, error_acceptable):\n",
        "    \"\"\"\n",
        "    Finds a root of a function using the bisection method.\n",
        "\n",
        "    Args:\n",
        "        func_str (str): The function to find the root of, as a string (e.g., \"x**2 - 4\").\n",
        "        a (float): The lower bound of the interval.\n",
        "        b (float): The upper bound of the interval.\n",
        "        error_acceptable (float): The maximum acceptable error.\n",
        "\n",
        "    Returns:\n",
        "        float: An approximate root of the function, or None if a root could not be found.\n",
        "    \"\"\"\n",
        "\n",
        "    def f(x):\n",
        "        \"\"\"Evaluates the function at a given value of x.\"\"\"\n",
        "        # Using the function string func_str and replace 'x' with the numerical value of x.\n",
        "        local_vars = {'x': x}\n",
        "        try:\n",
        "            return eval(func_str, {}, local_vars)\n",
        "        except Exception as e:\n",
        "            print(f\"Error evaluating function: {e}\")\n",
        "            return None\n",
        "\n",
        "    error = abs(b - a)\n",
        "    if f(a) * f(b) >= 0:\n",
        "        print(\"Bisection Method isn't helpful because of the presence of multiple roots or no root, or the initial interval is invalid.\")\n",
        "        return None\n",
        "\n",
        "    while error > error_acceptable:\n",
        "        c = (a + b) / 2\n",
        "\n",
        "        if f(c) == 0:\n",
        "            print(\"Exact root found:\", c)\n",
        "            return c\n",
        "\n",
        "        if f(c) * f(a) < 0:\n",
        "            b = c\n",
        "        elif f(c) * f(a) > 0:\n",
        "            a = c\n",
        "        else:\n",
        "            print(\"Something is wrong (likely a programming error or a very flat function near the root).\")\n",
        "            return None\n",
        "\n",
        "        error = abs(b - a)\n",
        "\n",
        "    print(\"The error is\", error)\n",
        "    print(\"Approximate root found in the interval: a =\", a, \", b =\", b)\n",
        "    return (a + b) / 2\n",
        "\n",
        "result = bisection_method(\"3*x**2 - 1\", 0, 1, 0.05)\n",
        "\n",
        "if result is not None:\n",
        "    print(\"Approximate root:\", result)\n"
      ],
      "metadata": {
        "colab": {
          "base_uri": "https://localhost:8080/"
        },
        "id": "y1XOphmwRUJJ",
        "outputId": "0428962f-9b12-4f6f-c0c7-1781745fb80c"
      },
      "execution_count": 14,
      "outputs": [
        {
          "output_type": "stream",
          "name": "stdout",
          "text": [
            "The error is 0.03125\n",
            "Approximate root found in the interval: a = 0.5625 , b = 0.59375\n",
            "Approximate root: 0.578125\n"
          ]
        }
      ]
    },
    {
      "cell_type": "code",
      "source": [
        "def bisection_method(func,a,b,error_acceptable=0.05):\n",
        "  def f(x):\n",
        "    f=eval(func)\n",
        "    return f\n",
        "\n",
        "  error=abs(b-a) #initializing as global variable\n",
        "  if f(a)*f(b)>=0:\n",
        "    print(\"Bisection Method isn't helpful because of the presence of multiple roots or no root, or the initial interval is invalid.\")\n",
        "  while error>error_acceptable:\n",
        "    c=(a+b)/2\n",
        "    if f(c)==0:\n",
        "      print(\"Exact root found at\",c)\n",
        "    elif f(a)*f(c)<0:\n",
        "      b=c\n",
        "    elif f(a)*f(c)>0:\n",
        "      a=c\n",
        "    else:\n",
        "      print(\"Something is wrong (likely a programming error or a very flat function near the root).\")\n",
        "    error=abs(b-a)\n",
        "  print(\"The error is\",error)\n",
        "  print(\"Approximate root found in the interval: a =\",a,\", b =\",b)\n",
        "  return (a+b)/2\n",
        "\n",
        "result = bisection_method(\"5*x**2 - 1\", 0, 1, 0.05)\n",
        "\n",
        "if result is not None:\n",
        "    print(\"Approximate root:\", result)\n",
        "\n",
        "\n"
      ],
      "metadata": {
        "colab": {
          "base_uri": "https://localhost:8080/"
        },
        "id": "3ZymWzQMUjET",
        "outputId": "e1326b2b-b0b6-4e68-b647-4f6fb2344228"
      },
      "execution_count": 16,
      "outputs": [
        {
          "output_type": "stream",
          "name": "stdout",
          "text": [
            "The error is 0.03125\n",
            "Approximate root found in the interval: a = 0.4375 , b = 0.46875\n",
            "Approximate root: 0.453125\n"
          ]
        }
      ]
    }
  ]
}