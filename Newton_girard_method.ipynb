{
  "nbformat": 4,
  "nbformat_minor": 0,
  "metadata": {
    "colab": {
      "provenance": []
    },
    "kernelspec": {
      "name": "python3",
      "display_name": "Python 3"
    },
    "language_info": {
      "name": "python"
    }
  },
  "cells": [
    {
      "cell_type": "markdown",
      "source": [
        "To calcute Tr ( $ρ^{k}$) using recursive formula"
      ],
      "metadata": {
        "id": "u4b2nOOWJfR-"
      }
    },
    {
      "cell_type": "code",
      "source": [
        "def newton_girard(power_sums, t):\n",
        "    \"\"\"\n",
        "    Compute the elementary symmetric polynomials using the Newton-Girard method.\n",
        "    \"\"\"\n",
        "    a = [1]\n",
        "    num_power_sums = len(power_sums) # Get the number of power sums\n",
        "    for k in range(1, t+1):\n",
        "        a_k = 0\n",
        "        for i in range(1, min(k, num_power_sums) + 1): # Limit i based on power_sums length\n",
        "            a_k += (-1)**(i-1) * a[k-i] * power_sums[i-1]\n",
        "        a_k /= k\n",
        "        a.append(a_k)\n",
        "    return a[1:]\n",
        "\n",
        "def estimate_higher_traces(power_sums, a, k):\n",
        "    \"\"\"\n",
        "    Estimate Tr(rho^k) for k > t using the recursive formula.\n",
        "    \"\"\"\n",
        "    t = len(power_sums)\n",
        "    estimated_traces = power_sums.copy()\n",
        "    for i in range(t, k):\n",
        "        trace_i = 0\n",
        "        for j in range(1, t + 1):\n",
        "            # Access correct index in estimated_traces\n",
        "            trace_i += (-1)**(j - 1) * a[j - 1] * estimated_traces[i - j]\n",
        "        estimated_traces.append(trace_i)\n",
        "    return estimated_traces\n",
        "\n",
        "eigenvalues = [0.5, 0.3, 0.2]\n",
        "\n",
        "# Compute power sums\n",
        "power_sums = [sum(p**i for p in eigenvalues) for i in range(1, 9)]\n",
        "t = 20\n",
        "a = newton_girard(power_sums, t)\n",
        "k = 25\n",
        "estimated_traces = estimate_higher_traces(power_sums, a, k)\n",
        "\n",
        "print(\"Elementary symmetric polynomials:\", a)\n",
        "print(\"Estimated traces:\", estimated_traces)"
      ],
      "metadata": {
        "colab": {
          "base_uri": "https://localhost:8080/"
        },
        "id": "dhx1xrJcJ63Y",
        "outputId": "395a1d1b-6a42-4ec4-cee4-cab188b98381"
      },
      "execution_count": 5,
      "outputs": [
        {
          "output_type": "stream",
          "name": "stdout",
          "text": [
            "Elementary symmetric polynomials: [1.0, 0.31, 0.03, 0.0, 0.0, 0.0, 0.0, 0.0, -0.0002192577777777778, -0.0001210007977777778, -1.4265040202020203e-05, -2.8049845757575727e-07, 1.2388467156177162e-07, -5.503137084082587e-08, 2.4579711630036645e-08, -1.1035291547573253e-08, 4.97844045423669e-09, 2.1780843328128452e-08, 3.5201400246790864e-09, 3.436401510449963e-11]\n",
            "Estimated traces: [1.0, 0.38, 0.16, 0.0722, 0.034, 0.016418000000000002, 0.008044, 0.00397442, 0.00197332, 0.0009825698, 0.0004900732, 0.000244676162, 0.000122230564, 6.108314978e-05, 3.053195980000001e-05, 1.5263100288200012e-05, 7.630687243600009e-06, 3.8150849482580055e-06, 1.907464911388003e-06, 9.537091947360216e-07, 4.768476206534808e-07, 2.384217176269542e-07, 1.192102310664558e-07, 5.960492722170443e-08, 2.980240711991175e-08]\n"
          ]
        }
      ]
    }
  ]
}